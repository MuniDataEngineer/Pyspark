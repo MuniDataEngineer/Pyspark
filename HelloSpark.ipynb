{
  "nbformat": 4,
  "nbformat_minor": 0,
  "metadata": {
    "colab": {
      "provenance": [],
      "authorship_tag": "ABX9TyM8HyQdQh3j3v4L2Y0ikGaV",
      "include_colab_link": true
    },
    "kernelspec": {
      "name": "python3",
      "display_name": "Python 3"
    },
    "language_info": {
      "name": "python"
    }
  },
  "cells": [
    {
      "cell_type": "markdown",
      "metadata": {
        "id": "view-in-github",
        "colab_type": "text"
      },
      "source": [
        "<a href=\"https://colab.research.google.com/github/MuniDataEngineer/Pyspark/blob/dev_28thApril2025/HelloSpark.ipynb\" target=\"_parent\"><img src=\"https://colab.research.google.com/assets/colab-badge.svg\" alt=\"Open In Colab\"/></a>"
      ]
    },
    {
      "cell_type": "markdown",
      "source": [
        "## Creating Sparksession"
      ],
      "metadata": {
        "id": "6RSVVPvwFV1r"
      }
    },
    {
      "cell_type": "code",
      "execution_count": null,
      "metadata": {
        "id": "DBhzsmU6EsHX"
      },
      "outputs": [],
      "source": [
        "import pyspark\n",
        "\n",
        "sc = pyspark.SparkContext()\n"
      ]
    },
    {
      "cell_type": "code",
      "source": [
        "spark = pyspark.sql.SparkSession.builder.master(\"local[2]\").appName(\"HelloSpark\").getOrCreate()"
      ],
      "metadata": {
        "id": "74Yy2mYBH2ai"
      },
      "execution_count": null,
      "outputs": []
    },
    {
      "cell_type": "code",
      "source": [
        "df = spark.read.json('/content/Pyspark/titanic.json')"
      ],
      "metadata": {
        "id": "JzMuSam9I3ax"
      },
      "execution_count": 16,
      "outputs": []
    },
    {
      "cell_type": "code",
      "source": [
        "df.show()"
      ],
      "metadata": {
        "colab": {
          "base_uri": "https://localhost:8080/"
        },
        "id": "ytKh2CMu3_T8",
        "outputId": "4ed55351-26d1-4881-ee37-797d8b94826c"
      },
      "execution_count": 14,
      "outputs": [
        {
          "output_type": "stream",
          "name": "stdout",
          "text": [
            "+----+-----+--------+-------+--------------------+-----+-----------+------+------+-----+--------+----------------+\n",
            "| Age|Cabin|Embarked|   Fare|                Name|Parch|PassengerId|Pclass|   Sex|SibSp|Survived|          Ticket|\n",
            "+----+-----+--------+-------+--------------------+-----+-----------+------+------+-----+--------+----------------+\n",
            "|22.0| NULL|       S|   7.25|Braund, Mr. Owen ...|    0|          1|     3|  male|    1|       0|       A/5 21171|\n",
            "|38.0|  C85|       C|71.2833|Cumings, Mrs. Joh...|    0|          2|     1|female|    1|       1|        PC 17599|\n",
            "|26.0| NULL|       S|  7.925|Heikkinen, Miss. ...|    0|          3|     3|female|    0|       1|STON/O2. 3101282|\n",
            "|35.0| C123|       S|   53.1|Futrelle, Mrs. Ja...|    0|          4|     1|female|    1|       1|          113803|\n",
            "|35.0| NULL|       S|   8.05|Allen, Mr. Willia...|    0|          5|     3|  male|    0|       0|          373450|\n",
            "|NULL| NULL|       Q| 8.4583|    Moran, Mr. James|    0|          6|     3|  male|    0|       0|          330877|\n",
            "|54.0|  E46|       S|51.8625|McCarthy, Mr. Tim...|    0|          7|     1|  male|    0|       0|           17463|\n",
            "| 2.0| NULL|       S| 21.075|Palsson, Master. ...|    1|          8|     3|  male|    3|       0|          349909|\n",
            "|27.0| NULL|       S|11.1333|Johnson, Mrs. Osc...|    2|          9|     3|female|    0|       1|          347742|\n",
            "|14.0| NULL|       C|30.0708|Nasser, Mrs. Nich...|    0|         10|     2|female|    1|       1|          237736|\n",
            "| 4.0|   G6|       S|   16.7|Sandstrom, Miss. ...|    1|         11|     3|female|    1|       1|         PP 9549|\n",
            "|58.0| C103|       S|  26.55|Bonnell, Miss. El...|    0|         12|     1|female|    0|       1|          113783|\n",
            "|20.0| NULL|       S|   8.05|Saundercock, Mr. ...|    0|         13|     3|  male|    0|       0|       A/5. 2151|\n",
            "|39.0| NULL|       S| 31.275|Andersson, Mr. An...|    5|         14|     3|  male|    1|       0|          347082|\n",
            "|14.0| NULL|       S| 7.8542|Vestrom, Miss. Hu...|    0|         15|     3|female|    0|       0|          350406|\n",
            "|55.0| NULL|       S|   16.0|Hewlett, Mrs. (Ma...|    0|         16|     2|female|    0|       1|          248706|\n",
            "| 2.0| NULL|       Q| 29.125|Rice, Master. Eugene|    1|         17|     3|  male|    4|       0|          382652|\n",
            "|NULL| NULL|       S|   13.0|Williams, Mr. Cha...|    0|         18|     2|  male|    0|       1|          244373|\n",
            "|31.0| NULL|       S|   18.0|Vander Planke, Mr...|    0|         19|     3|female|    1|       0|          345763|\n",
            "|NULL| NULL|       C|  7.225|Masselmani, Mrs. ...|    0|         20|     3|female|    0|       1|            2649|\n",
            "+----+-----+--------+-------+--------------------+-----+-----------+------+------+-----+--------+----------------+\n",
            "only showing top 20 rows\n",
            "\n"
          ]
        }
      ]
    }
  ]
}